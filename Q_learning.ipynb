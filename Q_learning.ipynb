{
  "nbformat": 4,
  "nbformat_minor": 0,
  "metadata": {
    "colab": {
      "provenance": [],
      "authorship_tag": "ABX9TyOUsGCODpmfLdwlbMKpn7gY",
      "include_colab_link": true
    },
    "kernelspec": {
      "name": "python3",
      "display_name": "Python 3"
    },
    "language_info": {
      "name": "python"
    }
  },
  "cells": [
    {
      "cell_type": "markdown",
      "metadata": {
        "id": "view-in-github",
        "colab_type": "text"
      },
      "source": [
        "<a href=\"https://colab.research.google.com/github/meliikaa/Q_learning/blob/main/Q_learning.ipynb\" target=\"_parent\"><img src=\"https://colab.research.google.com/assets/colab-badge.svg\" alt=\"Open In Colab\"/></a>"
      ]
    },
    {
      "cell_type": "code",
      "execution_count": 5,
      "metadata": {
        "id": "wPf0-ydf2Mkc"
      },
      "outputs": [],
      "source": [
        "import numpy as np\n",
        "#define the states\n",
        "location_to_state={\n",
        "    'l1' : 0,\n",
        "    'l2' : 1,\n",
        "    'l3' : 2,\n",
        "    'l4' : 3,\n",
        "    'l5' : 4,\n",
        "    'l6' : 5,\n",
        "    'l7' : 6,\n",
        "    'l8' : 7,\n",
        "    'l9' : 8\n",
        "}\n",
        "# define the actions\n",
        "actions = [0,1,2,3,4,5,6,7,8]\n",
        "# define the rewards \n",
        "rewards = np.array([[0,1,0,0,0,0,0,0,0],\n",
        "                    [1,0,1,0,1,0,0,0,0],\n",
        "                    [0,1,0,0,0,1,0,0,0],\n",
        "                    [0,0,0,0,0,0,1,0,0],\n",
        "                    [0,1,0,0,0,0,0,1,0],\n",
        "                    [0,0,1,0,0,0,0,0,0],\n",
        "                    [0,0,0,1,0,0,0,1,0],\n",
        "                    [0,0,0,0,1,0,1,0,1],\n",
        "                    [0,0,0,0,0,0,0,1,0]])\n",
        "state_to_location = dict((state,location) for location,state in location_to_state.items())\n",
        "#LEANING RATE \n",
        "gamma = 0.75\n",
        "alpha = 0.9\n",
        "class QAgent():\n",
        "  def _init_(self, alpha, gamma, location_to_state, action, rewards, state_to_location):\n",
        "    self.gamma = gamma\n",
        "    self.alpha = alpha\n",
        "    self.location_to_state = location_to_state\n",
        "    self.actions = actions\n",
        "    self.rewards = rewards\n",
        "    self.state_to_location = state_to_location\n",
        "\n",
        "    M = len(location_to_state)\n",
        "    slef.Q = np.zeros((M,M), dtype = None, order = 'C')\n",
        "    def training(self, start_location, end_location, iteration):\n",
        "      rewards_new = np.copy(self.rewards)\n",
        "      ending_state = self.location_to_start[end_location]\n",
        "      rewards_new[ending_state, ending_state] = 999\n",
        "      #picking a random current state \n",
        "      for i in range(iterations):\n",
        "        # pick a random situation to start with it\n",
        "        current_state = np.random.randint(0,9)\n",
        "        # our action list which is empty now but we will fill it out\n",
        "        playable_action = []\n",
        "        # number 9 is the number of our locations\n",
        "        # j is the next state we want to try\n",
        "        # therefore we append j in our playable_action\n",
        "        for j in range(9):\n",
        "          if rewards_new[current_state,j] > 0:\n",
        "            playable_actions.append(j)\n",
        "\n",
        "        #choosing a random point from our playable action which is filled with j \n",
        "        next_state = np.random.choice(playable_action)\n",
        "        #Belman EQ\n",
        "\n",
        "        TD = rewards_new[current_state,next_state] + \\\n",
        "              self.gamma*self.Q[next_state, np.argmax(self.Q[next_state,])] - self.Q[current_state,next_state]\n",
        "        #updating our Q table\n",
        "        self.Q[current_state,next_state] += self.alpha * TD\n",
        "     #MOVING 1 STEP FORWARD   \n",
        "      route = [start_location]\n",
        "      next_location = start_loaction    \n",
        "     #get the optimal route by the function\n",
        "      self.get_optimal_route(start_location, end_location, next_location, route, Q)\n",
        "  def get_optimal_route(self, start_location, end_location, next_location, route, Q):\n",
        "\n",
        "     while (next_location != end_location): #as long as we are looking forward to go to somewhere else\n",
        "        starting_state = self.location_to_state[start_location]\n",
        "        next_state = np.argmax(Q[starting_state,])\n",
        "        next_location = self.state_to_location[next_state]\n",
        "        route.append(next_location)\n",
        "        start_location = next_location\n",
        "     print(route)   \n",
        "\n"
      ]
    }
  ]
}